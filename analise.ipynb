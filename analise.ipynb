{
 "cells": [
  {
   "cell_type": "markdown",
   "metadata": {},
   "source": [
    "# Ligação com o drive"
   ]
  },
  {
   "cell_type": "code",
   "execution_count": null,
   "metadata": {},
   "outputs": [],
   "source": [
    "from google.colab import drive\n",
    "drive.mount('/content/drive')\n",
    "\n",
    "!ls \"/content/drive/My Drive/ColabNotebooks/dataset/F1\""
   ]
  },
  {
   "cell_type": "markdown",
   "metadata": {
    "id": "7H5YWk2vg9M5"
   },
   "source": [
    "# Pegando todos os CSVs"
   ]
  },
  {
   "cell_type": "code",
   "execution_count": 2,
   "metadata": {
    "executionInfo": {
     "elapsed": 1184,
     "status": "ok",
     "timestamp": 1734633611155,
     "user": {
      "displayName": "Import Vans",
      "userId": "12484788328741848105"
     },
     "user_tz": 180
    },
    "id": "7jPhBkK6OCMJ"
   },
   "outputs": [],
   "source": [
    "import pandas as pd\n",
    "\n",
    "data_drivers_update = \"dataset/F1/drivers_updated.csv\"\n",
    "data_teams_updated = \"dataset/F1/teams_updated.csv\"\n",
    "data_fastest_laps_updated = \"dataset/F1/fastest_laps_updated.csv\"\n",
    "data_winners = \"dataset/F1/winners.csv\"\n",
    "\n",
    "data_drivers_update_df = pd.read_csv(data_drivers_update)\n",
    "data_teams_updated_df = pd.read_csv(data_teams_updated)\n",
    "data_fastest_laps_updated_df = pd.read_csv(data_fastest_laps_updated)\n",
    "data_winners_df = pd.read_csv(data_winners)"
   ]
  },
  {
   "cell_type": "markdown",
   "metadata": {
    "id": "Cr_U8dBfhFRn"
   },
   "source": [
    "# Começando a trabalhar no data_drivers_update_df"
   ]
  },
  {
   "cell_type": "code",
   "execution_count": 3,
   "metadata": {
    "colab": {
     "base_uri": "https://localhost:8080/",
     "height": 81
    },
    "executionInfo": {
     "elapsed": 231,
     "status": "ok",
     "timestamp": 1734635213964,
     "user": {
      "displayName": "Import Vans",
      "userId": "12484788328741848105"
     },
     "user_tz": 180
    },
    "id": "z5ZAUFjShnDn",
    "outputId": "1b67d7fc-db25-4022-fc0d-8877988bd445"
   },
   "outputs": [
    {
     "data": {
      "text/html": [
       "<div>\n",
       "<style scoped>\n",
       "    .dataframe tbody tr th:only-of-type {\n",
       "        vertical-align: middle;\n",
       "    }\n",
       "\n",
       "    .dataframe tbody tr th {\n",
       "        vertical-align: top;\n",
       "    }\n",
       "\n",
       "    .dataframe thead th {\n",
       "        text-align: right;\n",
       "    }\n",
       "</style>\n",
       "<table border=\"1\" class=\"dataframe\">\n",
       "  <thead>\n",
       "    <tr style=\"text-align: right;\">\n",
       "      <th></th>\n",
       "      <th>Pos</th>\n",
       "      <th>Driver</th>\n",
       "      <th>Nationality</th>\n",
       "      <th>Car</th>\n",
       "      <th>PTS</th>\n",
       "      <th>year</th>\n",
       "      <th>Code</th>\n",
       "      <th>id_driver</th>\n",
       "    </tr>\n",
       "  </thead>\n",
       "  <tbody>\n",
       "    <tr>\n",
       "      <th>0</th>\n",
       "      <td>1</td>\n",
       "      <td>Nino  Farina</td>\n",
       "      <td>ITA</td>\n",
       "      <td>Alfa Romeo</td>\n",
       "      <td>30.0</td>\n",
       "      <td>1950</td>\n",
       "      <td>FAR</td>\n",
       "      <td>NinoFarina</td>\n",
       "    </tr>\n",
       "  </tbody>\n",
       "</table>\n",
       "</div>"
      ],
      "text/plain": [
       "  Pos         Driver Nationality         Car   PTS  year Code   id_driver\n",
       "0   1  Nino  Farina          ITA  Alfa Romeo  30.0  1950  FAR  NinoFarina"
      ]
     },
     "execution_count": 3,
     "metadata": {},
     "output_type": "execute_result"
    }
   ],
   "source": [
    "data_drivers_update_df = pd.read_csv(data_drivers_update)\n",
    "\n",
    "data_drivers_update_df['id_driver'] = data_drivers_update_df['Driver']\n",
    "data_drivers_update_df['id_driver'] = data_drivers_update_df['id_driver'].str.replace(\" \", \"\", regex=False)\n",
    "data_drivers_update_df.head(1)"
   ]
  },
  {
   "cell_type": "markdown",
   "metadata": {
    "id": "oNr2vGE2RTYh"
   },
   "source": [
    "### Selecionando o pais para exibir os pilotos"
   ]
  },
  {
   "cell_type": "code",
   "execution_count": 4,
   "metadata": {
    "colab": {
     "base_uri": "https://localhost:8080/"
    },
    "executionInfo": {
     "elapsed": 249,
     "status": "ok",
     "timestamp": 1734635217129,
     "user": {
      "displayName": "Import Vans",
      "userId": "12484788328741848105"
     },
     "user_tz": 180
    },
    "id": "uLNVQxLijZnx",
    "outputId": "64f15c01-0721-4f83-f27f-b19a5b6dd76f"
   },
   "outputs": [
    {
     "name": "stdout",
     "output_type": "stream",
     "text": [
      "A quantidade de pontos feitos pelos pilotos brasileiros foi de 3415.0\n"
     ]
    }
   ],
   "source": [
    "pais_selecionado = 'BRA'\n",
    "quantidade_de_pontos_feitos_pelo_brasil = data_drivers_update_df[data_drivers_update_df['Nationality'] == pais_selecionado]['PTS'].sum()\n",
    "print(f'A quantidade de pontos feitos pelos pilotos brasileiros foi de {quantidade_de_pontos_feitos_pelo_brasil}')"
   ]
  },
  {
   "cell_type": "markdown",
   "metadata": {
    "id": "IyWAoSHcRgnZ"
   },
   "source": [
    "### Retirando os pilotos duplicados"
   ]
  },
  {
   "cell_type": "code",
   "execution_count": 5,
   "metadata": {
    "colab": {
     "base_uri": "https://localhost:8080/"
    },
    "executionInfo": {
     "elapsed": 239,
     "status": "ok",
     "timestamp": 1734635219191,
     "user": {
      "displayName": "Import Vans",
      "userId": "12484788328741848105"
     },
     "user_tz": 180
    },
    "id": "Ke2dKlzfkbd_",
    "outputId": "dad90b35-301d-4259-df70-8ea2e6bab03b"
   },
   "outputs": [
    {
     "name": "stdout",
     "output_type": "stream",
     "text": [
      "152     Hermano  da Silva Ramos \n",
      "158                Chico  Landi \n",
      "461         Emerson  Fittipaldi \n",
      "516                Carlos  Pace \n",
      "535          Wilson  Fittipaldi \n",
      "658              Nelson  Piquet \n",
      "732                Chico  Serra \n",
      "761               Ayrton  Senna \n",
      "832             Roberto  Moreno \n",
      "845          Mauricio  Gugelmin \n",
      "938       Christian  Fittipaldi \n",
      "957         Rubens  Barrichello \n",
      "1019               Pedro  Diniz \n",
      "1058            Ricardo  Rosset \n",
      "1095             Ricardo  Zonta \n",
      "1104             Luciano  Burti \n",
      "1135              Felipe  Massa \n",
      "1144          Enrique  Bernoldi \n",
      "1157        Cristiano  da Matta \n",
      "1165          Antonio  Pizzonia \n",
      "1340               Bruno  Senna \n",
      "1341           Lucas  di Grassi \n",
      "1456               Felipe  Nasr \n",
      "1574         Pietro  Fittipaldi \n",
      "Name: Driver, dtype: object\n",
      "\n",
      "A quantidade de pilotos que correram pelo Brasil na F1 é de 24\n"
     ]
    }
   ],
   "source": [
    "nomes_dos_pilotos = data_drivers_update_df[data_drivers_update_df['Nationality'] == pais_selecionado]['Driver'].drop_duplicates()\n",
    "quantidade_de_pilotos = nomes_dos_pilotos.shape[0]\n",
    "print(nomes_dos_pilotos)\n",
    "print(f'\\nA quantidade de pilotos que correram pelo Brasil na F1 é de {quantidade_de_pilotos}')"
   ]
  },
  {
   "cell_type": "markdown",
   "metadata": {
    "id": "Bug6KNdtRlsI"
   },
   "source": [
    "### Selecionando o piloto para exibir na planilha"
   ]
  },
  {
   "cell_type": "code",
   "execution_count": 6,
   "metadata": {
    "colab": {
     "base_uri": "https://localhost:8080/",
     "height": 520
    },
    "executionInfo": {
     "elapsed": 220,
     "status": "ok",
     "timestamp": 1734635221951,
     "user": {
      "displayName": "Import Vans",
      "userId": "12484788328741848105"
     },
     "user_tz": 180
    },
    "id": "LvumzDymBkFl",
    "outputId": "8faf2306-4c30-4c50-bb7f-f1aeb98978cd"
   },
   "outputs": [
    {
     "data": {
      "text/html": [
       "<div>\n",
       "<style scoped>\n",
       "    .dataframe tbody tr th:only-of-type {\n",
       "        vertical-align: middle;\n",
       "    }\n",
       "\n",
       "    .dataframe tbody tr th {\n",
       "        vertical-align: top;\n",
       "    }\n",
       "\n",
       "    .dataframe thead th {\n",
       "        text-align: right;\n",
       "    }\n",
       "</style>\n",
       "<table border=\"1\" class=\"dataframe\">\n",
       "  <thead>\n",
       "    <tr style=\"text-align: right;\">\n",
       "      <th></th>\n",
       "      <th>Driver</th>\n",
       "      <th>year</th>\n",
       "      <th>Car</th>\n",
       "    </tr>\n",
       "  </thead>\n",
       "  <tbody>\n",
       "    <tr>\n",
       "      <th>1135</th>\n",
       "      <td>Felipe  Massa</td>\n",
       "      <td>2002</td>\n",
       "      <td>Sauber Petronas</td>\n",
       "    </tr>\n",
       "    <tr>\n",
       "      <th>1180</th>\n",
       "      <td>Felipe  Massa</td>\n",
       "      <td>2004</td>\n",
       "      <td>Sauber Petronas</td>\n",
       "    </tr>\n",
       "    <tr>\n",
       "      <th>1206</th>\n",
       "      <td>Felipe  Massa</td>\n",
       "      <td>2005</td>\n",
       "      <td>Sauber Petronas</td>\n",
       "    </tr>\n",
       "    <tr>\n",
       "      <th>1221</th>\n",
       "      <td>Felipe  Massa</td>\n",
       "      <td>2006</td>\n",
       "      <td>Ferrari</td>\n",
       "    </tr>\n",
       "    <tr>\n",
       "      <th>1249</th>\n",
       "      <td>Felipe  Massa</td>\n",
       "      <td>2007</td>\n",
       "      <td>Ferrari</td>\n",
       "    </tr>\n",
       "    <tr>\n",
       "      <th>1272</th>\n",
       "      <td>Felipe  Massa</td>\n",
       "      <td>2008</td>\n",
       "      <td>Ferrari</td>\n",
       "    </tr>\n",
       "    <tr>\n",
       "      <th>1303</th>\n",
       "      <td>Felipe  Massa</td>\n",
       "      <td>2009</td>\n",
       "      <td>Ferrari</td>\n",
       "    </tr>\n",
       "    <tr>\n",
       "      <th>1323</th>\n",
       "      <td>Felipe  Massa</td>\n",
       "      <td>2010</td>\n",
       "      <td>Ferrari</td>\n",
       "    </tr>\n",
       "    <tr>\n",
       "      <th>1350</th>\n",
       "      <td>Felipe  Massa</td>\n",
       "      <td>2011</td>\n",
       "      <td>Ferrari</td>\n",
       "    </tr>\n",
       "    <tr>\n",
       "      <th>1379</th>\n",
       "      <td>Felipe  Massa</td>\n",
       "      <td>2012</td>\n",
       "      <td>Ferrari</td>\n",
       "    </tr>\n",
       "    <tr>\n",
       "      <th>1405</th>\n",
       "      <td>Felipe  Massa</td>\n",
       "      <td>2013</td>\n",
       "      <td>Ferrari</td>\n",
       "    </tr>\n",
       "    <tr>\n",
       "      <th>1427</th>\n",
       "      <td>Felipe  Massa</td>\n",
       "      <td>2014</td>\n",
       "      <td>Williams Mercedes</td>\n",
       "    </tr>\n",
       "    <tr>\n",
       "      <th>1449</th>\n",
       "      <td>Felipe  Massa</td>\n",
       "      <td>2015</td>\n",
       "      <td>Williams Mercedes</td>\n",
       "    </tr>\n",
       "    <tr>\n",
       "      <th>1475</th>\n",
       "      <td>Felipe  Massa</td>\n",
       "      <td>2016</td>\n",
       "      <td>Williams Mercedes</td>\n",
       "    </tr>\n",
       "    <tr>\n",
       "      <th>1499</th>\n",
       "      <td>Felipe  Massa</td>\n",
       "      <td>2017</td>\n",
       "      <td>Williams Mercedes</td>\n",
       "    </tr>\n",
       "  </tbody>\n",
       "</table>\n",
       "</div>"
      ],
      "text/plain": [
       "              Driver  year                Car\n",
       "1135  Felipe  Massa   2002    Sauber Petronas\n",
       "1180  Felipe  Massa   2004    Sauber Petronas\n",
       "1206  Felipe  Massa   2005    Sauber Petronas\n",
       "1221  Felipe  Massa   2006            Ferrari\n",
       "1249  Felipe  Massa   2007            Ferrari\n",
       "1272  Felipe  Massa   2008            Ferrari\n",
       "1303  Felipe  Massa   2009            Ferrari\n",
       "1323  Felipe  Massa   2010            Ferrari\n",
       "1350  Felipe  Massa   2011            Ferrari\n",
       "1379  Felipe  Massa   2012            Ferrari\n",
       "1405  Felipe  Massa   2013            Ferrari\n",
       "1427  Felipe  Massa   2014  Williams Mercedes\n",
       "1449  Felipe  Massa   2015  Williams Mercedes\n",
       "1475  Felipe  Massa   2016  Williams Mercedes\n",
       "1499  Felipe  Massa   2017  Williams Mercedes"
      ]
     },
     "execution_count": 6,
     "metadata": {},
     "output_type": "execute_result"
    }
   ],
   "source": [
    "piloto = 'FelipeMassa'\n",
    "pais_selecionado = 'BRA'\n",
    "\n",
    "exibir_piloto_selecionado = data_drivers_update_df[data_drivers_update_df['Nationality'] == pais_selecionado]\n",
    "exibir_piloto_selecionado = data_drivers_update_df[data_drivers_update_df['id_driver'].str.strip() == piloto]\n",
    "exibir_piloto_selecionado[['Driver','year','Car']]"
   ]
  },
  {
   "cell_type": "markdown",
   "metadata": {
    "id": "oq8YRvWfRspH"
   },
   "source": [
    "### Quanto tempo o piloto passou em cada equipe"
   ]
  },
  {
   "cell_type": "code",
   "execution_count": 7,
   "metadata": {},
   "outputs": [
    {
     "name": "stdout",
     "output_type": "stream",
     "text": [
      "Felipe  Massa \n"
     ]
    }
   ],
   "source": [
    "driver = exibir_piloto_selecionado.iloc[0]['Driver']\n",
    "print(driver) \n"
   ]
  },
  {
   "cell_type": "code",
   "execution_count": 8,
   "metadata": {
    "colab": {
     "base_uri": "https://localhost:8080/",
     "height": 547
    },
    "executionInfo": {
     "elapsed": 245,
     "status": "error",
     "timestamp": 1734635268844,
     "user": {
      "displayName": "Import Vans",
      "userId": "12484788328741848105"
     },
     "user_tz": 180
    },
    "id": "u6CYF_LdQ89h",
    "outputId": "37c96469-4372-4256-85c0-6c3e85250bd9"
   },
   "outputs": [
    {
     "name": "stdout",
     "output_type": "stream",
     "text": [
      "Quanto tempo o Felipe  Massa  passou em cada equipe\n",
      "Car\n",
      "Ferrari              8\n",
      "Williams Mercedes    4\n",
      "Sauber Petronas      3\n",
      "Name: count, dtype: int64\n"
     ]
    }
   ],
   "source": [
    "exibir_tempo_que_o_piloto_passou_em_cada_equipe = exibir_piloto_selecionado['Car'].value_counts()\n",
    "print(f'Quanto tempo o {driver} passou em cada equipe')\n",
    "print(exibir_tempo_que_o_piloto_passou_em_cada_equipe)"
   ]
  },
  {
   "cell_type": "markdown",
   "metadata": {},
   "source": [
    "# Nova analise"
   ]
  },
  {
   "cell_type": "code",
   "execution_count": 33,
   "metadata": {
    "colab": {
     "base_uri": "https://localhost:8080/",
     "height": 363
    },
    "executionInfo": {
     "elapsed": 291,
     "status": "ok",
     "timestamp": 1734538253569,
     "user": {
      "displayName": "Import Vans",
      "userId": "12484788328741848105"
     },
     "user_tz": 180
    },
    "id": "57CWW8_1iU6C",
    "outputId": "6ba1b713-40a9-4bee-e547-5c8c8729e006"
   },
   "outputs": [
    {
     "name": "stdout",
     "output_type": "stream",
     "text": [
      "Quantidade de pontos feitos por ITA foi de 1989.20\n"
     ]
    }
   ],
   "source": [
    "data_drivers_update_df = pd.read_csv(data_drivers_update)\n",
    "\n",
    "data_drivers_update_df['id_driver'] = data_drivers_update_df['Driver']\n",
    "data_drivers_update_df['id_driver'] = data_drivers_update_df['id_driver'].str.replace(\" \", \"\", regex=False)\n",
    "\n",
    "pais = 'ITA'\n",
    "data_drivers_update_df = data_drivers_update_df[data_drivers_update_df['Nationality'] == pais]\n",
    "\n",
    "data_drivers_update_df = data_drivers_update_df['PTS'].sum()\n",
    "\n",
    "data_drivers_update_df\n",
    "\n",
    "print(f'Quantidade de pontos feitos por {pais} foi de {data_drivers_update_df:.2f}')"
   ]
  },
  {
   "cell_type": "code",
   "execution_count": 10,
   "metadata": {},
   "outputs": [
    {
     "name": "stdout",
     "output_type": "stream",
     "text": [
      "Nationality\n",
      "ARG      646.7\n",
      "AUS     2996.5\n",
      "AUT      988.5\n",
      "BEL      383.0\n",
      "BRA     3415.0\n",
      "CAN      624.0\n",
      "CHI        3.0\n",
      "CHN       12.0\n",
      "COL      307.0\n",
      "DEN      188.0\n",
      "ESP     3472.5\n",
      "FIN     4397.5\n",
      "FRA     3561.4\n",
      "GBR    11366.7\n",
      "GER     7961.5\n",
      "HUN        1.0\n",
      "INA        0.0\n",
      "IND        5.0\n",
      "IRL       16.0\n",
      "ITA     1989.2\n",
      "JPN      289.0\n",
      "MAS        0.0\n",
      "MEX     1687.0\n",
      "MON     1216.0\n",
      "NED     2784.5\n",
      "NZL      535.5\n",
      "POL      274.0\n",
      "POR        8.0\n",
      "RAF        0.0\n",
      "RHO        6.0\n",
      "RSA      273.0\n",
      "RUS      267.0\n",
      "SUI      345.0\n",
      "SWE      396.0\n",
      "THA      238.0\n",
      "USA      990.0\n",
      "VEN       77.0\n",
      "Name: PTS, dtype: float64\n"
     ]
    }
   ],
   "source": [
    "data_drivers_update_df = pd.read_csv(data_drivers_update)\n",
    "\n",
    "data_drivers_update_df = data_drivers_update_df.groupby('Nationality')['PTS'].sum()\n",
    "\n",
    "print(data_drivers_update_df)"
   ]
  }
 ],
 "metadata": {
  "colab": {
   "authorship_tag": "ABX9TyOaGlcBW2popANiHpksRB03",
   "mount_file_id": "18QB74JJeh6ThPFlavVrDE1e_D0IXRVOR",
   "provenance": []
  },
  "kernelspec": {
   "display_name": "Python 3",
   "name": "python3"
  },
  "language_info": {
   "codemirror_mode": {
    "name": "ipython",
    "version": 3
   },
   "file_extension": ".py",
   "mimetype": "text/x-python",
   "name": "python",
   "nbconvert_exporter": "python",
   "pygments_lexer": "ipython3",
   "version": "3.12.8"
  }
 },
 "nbformat": 4,
 "nbformat_minor": 0
}
